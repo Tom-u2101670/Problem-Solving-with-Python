{
 "cells": [
  {
   "cell_type": "code",
   "execution_count": 1,
   "metadata": {},
   "outputs": [],
   "source": [
    "import numpy as np \n",
    "import random as rand \n",
    "from numba import jit\n",
    "import matplotlib.pyplot as plt \n",
    "from matplotlib.widgets import Slider"
   ]
  },
  {
   "cell_type": "markdown",
   "metadata": {},
   "source": [
    "## Generalising the conjecture ##"
   ]
  },
  {
   "cell_type": "code",
   "execution_count": 2,
   "metadata": {},
   "outputs": [],
   "source": [
    "def c(r_array):\n",
    "    assert np.all(1<r_array), \"r must be greater than 1\"\n",
    "    m_array = np.zeros_like(r_array)\n",
    "    count_max = 100\n",
    "    for i,r in enumerate(r_array):\n",
    "        m = 0\n",
    "        ratio = 1/r\n",
    "        limit = 0\n",
    "        count = 0\n",
    "        while limit <= (r - 1):\n",
    "            count += 1\n",
    "            m += 1\n",
    "            limit += 1/m\n",
    "            if count > count_max:\n",
    "                m = np.inf\n",
    "                break\n",
    "        m_array[i] = m\n",
    "    return m_array"
   ]
  },
  {
   "cell_type": "code",
   "execution_count": 3,
   "metadata": {},
   "outputs": [],
   "source": [
    "def d(a,k):\n",
    "    return k // a"
   ]
  },
  {
   "cell_type": "code",
   "execution_count": 4,
   "metadata": {},
   "outputs": [],
   "source": [
    "a = 2\n",
    "r = np.linspace(1.01,100,10000)\n",
    "x = 1/r\n",
    "results = c(r)\n",
    "def k_bound(a):\n",
    "    k = (results+1)*a\n",
    "    return k\n",
    "#x_star = r[np.where(results == 3)][0]"
   ]
  },
  {
   "cell_type": "code",
   "execution_count": 5,
   "metadata": {},
   "outputs": [
    {
     "data": {
      "image/png": "[encoded data removed]",
      "text/plain": [
       "<Figure size 1080x720 with 1 Axes>"
      ]
     },
     "metadata": {
      "needs_background": "light"
     },
     "output_type": "display_data"
    }
   ],
   "source": [
    "%matplotlib inline\n",
    "\n",
    "plt.figure(figsize=(15,10))\n",
    "plt.plot(x, k_bound(2))\n",
    "plt.ylim((4-1e-5,20))\n",
    "plt.grid()\n",
    "plt.xticks(np.linspace(0,1,21))\n",
    "plt.yticks(np.arange(4,21,2))\n",
    "plt.xlabel(\"Fraction of a pint Ali can add every turn\")\n",
    "plt.ylabel(\"Minimum number of glasses required for Ali to win\")\n",
    "plt.title(\"How many glasses does Ali require to be on the table to win?\")\n",
    "plt.show()"
   ]
  },
  {
   "cell_type": "code",
   "execution_count": 6,
   "metadata": {},
   "outputs": [],
   "source": [
    "%matplotlib osx\n",
    "\n",
    "fig, ax = plt.subplots()\n",
    "ax.set_xlabel(\"Fraction of a pint Ali can add every turn\")\n",
    "ax.set_ylabel(\"Minimum number of glasses required for Ali to win\")\n",
    "ax.set_title(\"How many glasses does Ali require to be on the table to win?\")\n",
    "#ax.set_ylim((2,16))\n",
    "#ax.vlines(1/x_star, 2,16,'red', 'dashed', label = f'x = {1/x_star}')\n",
    "plt.subplots_adjust(bottom = 0.2)\n",
    "plt.grid('on')\n",
    "P, = plt.plot(x, k_bound(a), label = 'Distribution of number of glasses required to win')\n",
    "slider_dim = plt.axes([0.15, 0.1, 0.7, 0.02])\n",
    "a_slide = Slider(slider_dim, '$a$', 1, 10,\n",
    "                 valstep = 1, valinit = a)\n",
    "def update(val):\n",
    "    a = a_slide.val\n",
    "    P.set_ydata(k_bound(a))\n",
    "    fig.canvas.draw_idle()\n",
    "a_slide.on_changed(update)\n",
    "#plt.legend()\n",
    "plt.show()"
   ]
  },
  {
   "cell_type": "markdown",
   "metadata": {},
   "source": [
    "## Minimum number of moves to win ##\n",
    "I can find an upper bound for the number of moves required to win"
   ]
  },
  {
   "cell_type": "code",
   "execution_count": 7,
   "metadata": {},
   "outputs": [],
   "source": [
    "def n_min(r):\n",
    "    m_array = c(r)\n",
    "    #print(m_array)\n",
    "    n0_array = np.zeros_like(m_array)\n",
    "    for j,m in enumerate(m_array):\n",
    "        #print(m)\n",
    "        m = int(m)\n",
    "        t = 1\n",
    "        for i in range(1,m+1):\n",
    "            t -= (1/i)*(1/r[j])\n",
    "        #print(t)\n",
    "        n0 = 0\n",
    "        partial = 0\n",
    "        #print(partial)\n",
    "        while not (partial > t):\n",
    "            n0 +=1\n",
    "            partial += (1/2**n0)*(1/r[j])\n",
    "            #print(partial)\n",
    "        n0_array[j] = n0\n",
    "    return n0_array"
   ]
  },
  {
   "cell_type": "code",
   "execution_count": 8,
   "metadata": {},
   "outputs": [
    {
     "name": "stdout",
     "output_type": "stream",
     "text": [
      "[2]\n"
     ]
    }
   ],
   "source": [
    "print(n_min(np.array([2])))"
   ]
  },
  {
   "cell_type": "code",
   "execution_count": 9,
   "metadata": {},
   "outputs": [],
   "source": [
    "def min_moves(r):\n",
    "    n0 = n_min(r)\n",
    "    m0 = c(r)\n",
    "    return m0*n0+m0"
   ]
  },
  {
   "cell_type": "code",
   "execution_count": 10,
   "metadata": {},
   "outputs": [],
   "source": [
    "r2 = np.linspace(1.01,6,500)\n",
    "#print(c(r2))\n",
    "\n",
    "\n",
    "plt.figure(figsize=(15,10))\n",
    "plt.plot(1/r2,min_moves(r2))\n",
    "plt.ylabel(\"Number of moves for Ali to win\")\n",
    "plt.xlabel(\"Fraction of a pint Ali can add each round\")\n",
    "plt.title(\"A graph to show the upper bound on the minimum number of moves required for Ali to win\")\n",
    "plt.show()"
   ]
  }
 ],
 "metadata": {
  "kernelspec": {
   "display_name": "base",
   "language": "python",
   "name": "python3"
  },
  "language_info": {
   "codemirror_mode": {
    "name": "ipython",
    "version": 3
   },
   "file_extension": ".py",
   "mimetype": "text/x-python",
   "name": "python",
   "nbconvert_exporter": "python",
   "pygments_lexer": "ipython3",
   "version": "3.9.7"
  }
 },
 "nbformat": 4,
 "nbformat_minor": 2
}
