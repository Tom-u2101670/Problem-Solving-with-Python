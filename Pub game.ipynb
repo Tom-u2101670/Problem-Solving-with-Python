{
 "cells": [
  {
   "cell_type": "code",
   "execution_count": 54,
   "metadata": {},
   "outputs": [],
   "source": [
    "import numpy as np \n",
    "import random as rand \n",
    "from numba import jit\n",
    "import matplotlib.pyplot as plt \n",
    "from matplotlib.widgets import Slider"
   ]
  },
  {
   "cell_type": "code",
   "execution_count": 4,
   "metadata": {},
   "outputs": [],
   "source": [
    "n = 6\n",
    "count_max = 10"
   ]
  },
  {
   "cell_type": "code",
   "execution_count": 33,
   "metadata": {},
   "outputs": [],
   "source": [
    "@jit\n",
    "def most_move(glasses, n0):\n",
    "    i = np.argmax(glasses)\n",
    "    j = (i+1)%n0\n",
    "    if not glasses[j] >= glasses[(i-1)%n0]:\n",
    "        j = (i-1)%n0 \n",
    "    glasses[i],glasses[j] = 0,0\n",
    "    return glasses"
   ]
  },
  {
   "cell_type": "code",
   "execution_count": 6,
   "metadata": {},
   "outputs": [],
   "source": [
    "def user_move(glasses, n0):\n",
    "    new_glasses = np.copy(glasses)\n",
    "    halfpint = 50.0\n",
    "    for glass_number in range(n0):\n",
    "        p = (input(f'What percentage of glass {glass_number+1} would you like to fill? You have {halfpint}% out of 50% left to split.'))\n",
    "        if p == str('!'):\n",
    "            break\n",
    "        else:\n",
    "            perc = float(p)\n",
    "            dif = halfpint - perc\n",
    "            if dif >= 0:\n",
    "                new_glasses[glass_number] = glasses[glass_number] + perc\n",
    "                halfpint = dif\n",
    "            else:\n",
    "                new_glasses[glass_number] = glasses[glass_number] + halfpint\n",
    "                halfpint = 0\n",
    "        print(f\"Glass {glass_number+1} is {new_glasses[glass_number]}% full\")\n",
    "    if p == str('!'):\n",
    "        print(\"Start this move again\")\n",
    "        new_glasses = user_move(glasses, n0)        \n",
    "    return new_glasses\n",
    "    "
   ]
  },
  {
   "cell_type": "code",
   "execution_count": 7,
   "metadata": {},
   "outputs": [],
   "source": [
    "#glasses = np.zeros(n)\n",
    "#count = 0\n",
    "#win = False\n",
    "\n",
    "#while (win == False) and (count < count_max):\n",
    "#    print(f\"ROUND {count+1}\")\n",
    "#    print()\n",
    "#    glasses = most_move(glasses, n)\n",
    "#    print(*(f\"Glass {i+1} is {glass :3}% full \\n\" for i,glass in enumerate(glasses)))\n",
    "#    print(f\"For each of the {n} glasses, choose what percentage of the glass you would like to fill. You only have 50% on offer to split between the {n} glasses. Should you total choose more than 50%, none of the additional percentage will be used. Type a '!' if you would like to start your choice again\")\n",
    "#    glasses = user_move(glasses, n)\n",
    "#    if np.max(glasses) > 100:\n",
    "#        win = True\n",
    "#    count += 1\n",
    "#    print()\n",
    "#    print()\n",
    "#if win:\n",
    "#    print(\"YOU WON!!!\")\n",
    "#else:\n",
    "#    print(f\"More than {count_max} moves were made. You gave up\")"
   ]
  },
  {
   "cell_type": "code",
   "execution_count": 8,
   "metadata": {},
   "outputs": [],
   "source": [
    "def glass_game(n0, max_count = 20):\n",
    "    glasses = np.zeros(n0)\n",
    "    count = 0\n",
    "    win = False\n",
    "\n",
    "    while (win == False) and (count < max_count):\n",
    "        print(f\"ROUND {count+1}\")\n",
    "        print()\n",
    "        glasses = most_move(glasses, n0)\n",
    "        print(*(f\"Glass {i+1} is {glass :3}% full \\n\" for i,glass in enumerate(glasses)))\n",
    "        print(f\"For each of the {n0} glasses, choose what percentage of the glass you would like to fill. You only have 50% on offer to split between the {n} glasses. Should you total choose more than 50%, none of the additional percentage will be used. Type a '!' if you would like to start your choice again\")\n",
    "        glasses = user_move(glasses, n0)\n",
    "        if np.max(glasses) > 100:\n",
    "            win = True\n",
    "        count += 1\n",
    "        print()\n",
    "        print()\n",
    "    if win:\n",
    "        print(\"YOU WON!!!\")\n",
    "    else:\n",
    "        print(f\"More than {count_max} moves were made. You gave up\")\n"
   ]
  },
  {
   "cell_type": "code",
   "execution_count": 9,
   "metadata": {},
   "outputs": [],
   "source": [
    "#glass_game(5)"
   ]
  },
  {
   "cell_type": "code",
   "execution_count": 34,
   "metadata": {},
   "outputs": [],
   "source": [
    "@jit\n",
    "def Ali_move(glasses,k):\n",
    "    half = 50.0\n",
    "    for i in range(k-1):\n",
    "        prop = (half*rand.random())\n",
    "        glasses[i] += prop\n",
    "        half -= prop\n",
    "    glasses[k-1] += half\n",
    "    return glasses"
   ]
  },
  {
   "cell_type": "code",
   "execution_count": 35,
   "metadata": {},
   "outputs": [],
   "source": [
    "@jit\n",
    "def glass_game_data(games, n0, max_count = 50):\n",
    "    wins = 0\n",
    "    for _ in range(games):\n",
    "        glasses = np.zeros(n0)\n",
    "        count = 0\n",
    "        win = False\n",
    "\n",
    "        while (win == False) and (count < max_count):\n",
    "            glasses = Ali_move(glasses, n0)\n",
    "            glasses = most_move(glasses, n0)\n",
    "            if np.max(glasses) > 50:\n",
    "                win = True\n",
    "            count += 1\n",
    "        if win:\n",
    "            wins += 1\n",
    "    return wins"
   ]
  },
  {
   "cell_type": "code",
   "execution_count": 29,
   "metadata": {},
   "outputs": [
    {
     "name": "stdout",
     "output_type": "stream",
     "text": [
      "0\n",
      "0\n",
      "1\n",
      "1\n",
      "2\n"
     ]
    }
   ],
   "source": [
    "wins_array = [0,0]\n",
    "for k in range(4,8+1):\n",
    "    wins = glass_game_data(250,k, max_count=10000)\n",
    "    print(wins)\n",
    "    wins_array.append(wins)\n",
    "#print(wins_array)"
   ]
  },
  {
   "cell_type": "code",
   "execution_count": 47,
   "metadata": {},
   "outputs": [],
   "source": [
    "wins_array = [0,0,0]\n",
    "for k in range(4,8+1):\n",
    "    wins = glass_game_data(5000,k, max_count=50000)\n",
    "    #print(wins)\n",
    "    wins_array.append(wins)"
   ]
  },
  {
   "cell_type": "code",
   "execution_count": 48,
   "metadata": {},
   "outputs": [
    {
     "name": "stdout",
     "output_type": "stream",
     "text": [
      "[0, 0, 0, 0, 0, 74, 73, 111]\n"
     ]
    }
   ],
   "source": [
    "print(wins_array)"
   ]
  },
  {
   "cell_type": "code",
   "execution_count": 55,
   "metadata": {},
   "outputs": [
    {
     "name": "stdout",
     "output_type": "stream",
     "text": [
      "[0, 0, 0, 0, 0, 0, 57, 81, 120, 117, 132]\n"
     ]
    }
   ],
   "source": [
    "wins_array2 = [0]\n",
    "for k in range(1,10+1):\n",
    "    wins = glass_game_data(5000,k, max_count=50000)\n",
    "    #print(wins)\n",
    "    wins_array2.append(wins)\n",
    "print(wins_array2)"
   ]
  },
  {
   "cell_type": "code",
   "execution_count": 56,
   "metadata": {},
   "outputs": [
    {
     "data": {
      "image/png": "[encoded data removed]",
      "text/plain": [
       "<Figure size 1080x720 with 1 Axes>"
      ]
     },
     "metadata": {
      "needs_background": "light"
     },
     "output_type": "display_data"
    }
   ],
   "source": [
    "plt.figure(figsize=(15,10))\n",
    "plt.bar(np.arange(0,10+1), wins_array2)\n",
    "plt.xlabel(\"k value\")\n",
    "plt.ylabel(\"Number of wins for Ali\")\n",
    "plt.title(\"Simulated Pub Game\")\n",
    "plt.show()"
   ]
  },
  {
   "cell_type": "markdown",
   "metadata": {},
   "source": [
    "## Generalising the conjecture ##"
   ]
  },
  {
   "cell_type": "code",
   "execution_count": 128,
   "metadata": {},
   "outputs": [],
   "source": [
    "def c(r_array):\n",
    "    assert np.all(1<r_array), \"r must be greater than 1\"\n",
    "    m_array = np.zeros_like(r_array)\n",
    "    count_max = 100\n",
    "    for i,r in enumerate(r_array):\n",
    "        m = 0\n",
    "        ratio = 1/r\n",
    "        limit = 0\n",
    "        count = 0\n",
    "        while limit <= (r - 1):\n",
    "            count += 1\n",
    "            m += 1\n",
    "            limit += 1/m\n",
    "            if count > count_max:\n",
    "                m = np.inf\n",
    "                break\n",
    "        m_array[i] = m\n",
    "    return m_array"
   ]
  },
  {
   "cell_type": "code",
   "execution_count": 129,
   "metadata": {},
   "outputs": [],
   "source": [
    "def d(a,k):\n",
    "    return k // a"
   ]
  },
  {
   "cell_type": "code",
   "execution_count": 130,
   "metadata": {},
   "outputs": [],
   "source": [
    "a = 2\n",
    "r = np.linspace(1.01,100,10000)\n",
    "x = 1/r\n",
    "results = c(r)\n",
    "def k_bound(a):\n",
    "    k = (results+1)*a\n",
    "    return k\n",
    "#x_star = r[np.where(results == 3)][0]"
   ]
  },
  {
   "cell_type": "code",
   "execution_count": 131,
   "metadata": {},
   "outputs": [
    {
     "data": {
      "image/png": "[encoded data removed]",
      "text/plain": [
       "<Figure size 1080x720 with 1 Axes>"
      ]
     },
     "metadata": {
      "needs_background": "light"
     },
     "output_type": "display_data"
    }
   ],
   "source": [
    "%matplotlib inline\n",
    "\n",
    "plt.figure(figsize=(15,10))\n",
    "plt.plot(x, k_bound(2))\n",
    "plt.ylim((4-1e-5,20))\n",
    "plt.grid()\n",
    "plt.xticks(np.linspace(0,1,21))\n",
    "plt.yticks(np.arange(4,21,2))\n",
    "plt.xlabel(\"Fraction of a pint Ali can add every turn\")\n",
    "plt.ylabel(\"Minimum number of glasses required for Ali to win\")\n",
    "plt.title(\"How many glasses does Ali require to be on the table to win?\")\n",
    "plt.show()"
   ]
  },
  {
   "cell_type": "code",
   "execution_count": 132,
   "metadata": {},
   "outputs": [],
   "source": [
    "%matplotlib osx\n",
    "\n",
    "fig, ax = plt.subplots()\n",
    "ax.set_xlabel(\"Fraction of a pint Ali can add every turn\")\n",
    "ax.set_ylabel(\"Minimum number of glasses required for Ali to win\")\n",
    "ax.set_title(\"How many glasses does Ali require to be on the table to win?\")\n",
    "#ax.set_ylim((2,16))\n",
    "#ax.vlines(1/x_star, 2,16,'red', 'dashed', label = f'x = {1/x_star}')\n",
    "plt.subplots_adjust(bottom = 0.2)\n",
    "plt.grid('on')\n",
    "P, = plt.plot(x, k_bound(a), label = 'Distribution of number of glasses required to win')\n",
    "slider_dim = plt.axes([0.15, 0.1, 0.7, 0.02])\n",
    "a_slide = Slider(slider_dim, '$a$', 1, 10,\n",
    "                 valstep = 1, valinit = a)\n",
    "def update(val):\n",
    "    a = a_slide.val\n",
    "    P.set_ydata(k_bound(a))\n",
    "    fig.canvas.draw_idle()\n",
    "a_slide.on_changed(update)\n",
    "#plt.legend()\n",
    "plt.show()"
   ]
  },
  {
   "cell_type": "markdown",
   "metadata": {},
   "source": [
    "## Minimum number of moves to win ##\n",
    "I can find an upper bound for the number of moves required to win"
   ]
  },
  {
   "cell_type": "code",
   "execution_count": 133,
   "metadata": {},
   "outputs": [],
   "source": [
    "def n_min(r):\n",
    "    m_array = c(r)\n",
    "    #print(m_array)\n",
    "    n0_array = np.zeros_like(m_array)\n",
    "    for j,m in enumerate(m_array):\n",
    "        #print(m)\n",
    "        m = int(m)\n",
    "        t = 1\n",
    "        for i in range(1,m+1):\n",
    "            t -= (1/i)*(1/r[j])\n",
    "        #print(t)\n",
    "        n0 = 0\n",
    "        partial = 0\n",
    "        #print(partial)\n",
    "        while not (partial > t):\n",
    "            n0 +=1\n",
    "            partial += (1/2**n0)*(1/r[j])\n",
    "            #print(partial)\n",
    "        n0_array[j] = n0\n",
    "    return n0_array"
   ]
  },
  {
   "cell_type": "code",
   "execution_count": 134,
   "metadata": {},
   "outputs": [
    {
     "name": "stdout",
     "output_type": "stream",
     "text": [
      "[2]\n"
     ]
    }
   ],
   "source": [
    "print(n_min(np.array([2])))"
   ]
  },
  {
   "cell_type": "code",
   "execution_count": 137,
   "metadata": {},
   "outputs": [],
   "source": [
    "def min_moves(r):\n",
    "    n0 = n_min(r)\n",
    "    m0 = c(r)\n",
    "    return m0*n0+m0"
   ]
  },
  {
   "cell_type": "code",
   "execution_count": 145,
   "metadata": {},
   "outputs": [
    {
     "name": "stderr",
     "output_type": "stream",
     "text": [
      "2024-03-13 21:12:56.886 python[2433:210164] +[CATransaction synchronize] called within transaction\n",
      "2024-03-13 21:13:02.083 python[2433:210164] +[CATransaction synchronize] called within transaction\n",
      "2024-03-13 21:13:02.100 python[2433:210164] +[CATransaction synchronize] called within transaction\n",
      "2024-03-13 21:13:02.183 python[2433:210164] +[CATransaction synchronize] called within transaction\n",
      "2024-03-13 21:13:02.216 python[2433:210164] +[CATransaction synchronize] called within transaction\n",
      "2024-03-13 21:13:02.440 python[2433:210164] +[CATransaction synchronize] called within transaction\n"
     ]
    }
   ],
   "source": [
    "r2 = np.linspace(1.01,6,500)\n",
    "#print(c(r2))\n",
    "\n",
    "\n",
    "plt.figure(figsize=(15,10))\n",
    "plt.plot(1/r2,min_moves(r2))\n",
    "plt.ylabel(\"Number of moves for Ali to win\")\n",
    "plt.xlabel(\"Fraction of a pint Ali can add each round\")\n",
    "plt.title(\"A graph to show the upper bound on the minimum number of moves required for Ali to win\")\n",
    "plt.show()"
   ]
  },
  {
   "cell_type": "code",
   "execution_count": 143,
   "metadata": {},
   "outputs": [],
   "source": [
    "#print(r2)"
   ]
  },
  {
   "cell_type": "code",
   "execution_count": null,
   "metadata": {},
   "outputs": [],
   "source": []
  }
 ],
 "metadata": {
  "kernelspec": {
   "display_name": "base",
   "language": "python",
   "name": "python3"
  },
  "language_info": {
   "codemirror_mode": {
    "name": "ipython",
    "version": 3
   },
   "file_extension": ".py",
   "mimetype": "text/x-python",
   "name": "python",
   "nbconvert_exporter": "python",
   "pygments_lexer": "ipython3",
   "version": "3.9.7"
  }
 },
 "nbformat": 4,
 "nbformat_minor": 2
}
