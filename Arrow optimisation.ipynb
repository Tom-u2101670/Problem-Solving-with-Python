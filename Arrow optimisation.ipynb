{
 "cells": [
  {
   "cell_type": "code",
   "execution_count": 1,
   "metadata": {},
   "outputs": [],
   "source": [
    "import numpy as np\n",
    "import matplotlib.pyplot as plt\n",
    "import operator\n",
    "from itertools import permutations as perm \n",
    "\n",
    "import random as rand \n",
    "from numba import jit"
   ]
  },
  {
   "cell_type": "markdown",
   "metadata": {},
   "source": [
    "## Generate the 3x3 grid with spiral of integers ##"
   ]
  },
  {
   "cell_type": "code",
   "execution_count": 2,
   "metadata": {},
   "outputs": [
    {
     "name": "stdout",
     "output_type": "stream",
     "text": [
      "[[5 4 3]\n",
      " [6 1 2]\n",
      " [7 8 9]]\n"
     ]
    }
   ],
   "source": [
    "grid0 = np.array([[5,4,3], [6,1,2], [7,8,9]])\n",
    "print(grid0)"
   ]
  },
  {
   "cell_type": "code",
   "execution_count": 3,
   "metadata": {},
   "outputs": [],
   "source": [
    "ops = {\"+\": operator.add, \"-\": operator.sub, \"*\": operator.mul, \"/\": operator.truediv}\n",
    "def operate(int1, op, int2):\n",
    "    return ops[op](int1,int2)"
   ]
  },
  {
   "cell_type": "code",
   "execution_count": 4,
   "metadata": {},
   "outputs": [],
   "source": [
    "def classify(array,up, right, down, left):\n",
    "    if array[0] == 0:\n",
    "        if array[1] == 1:\n",
    "            return right\n",
    "        elif array[1] == -1:\n",
    "            return left\n",
    "        else:\n",
    "            print(\"Array not looking as expected\")\n",
    "            raise ValueError\n",
    "    elif array[1] == 0:\n",
    "        if array[0] == 1:\n",
    "            return down\n",
    "        elif array[0] == -1:\n",
    "            return up\n",
    "        else:\n",
    "            print(\"Array not looking as expected\")\n",
    "            raise ValueError\n",
    "    else:\n",
    "        print(\"Array not looking as expected\")\n",
    "        raise ValueError"
   ]
  },
  {
   "cell_type": "code",
   "execution_count": 5,
   "metadata": {},
   "outputs": [],
   "source": [
    "def arrows(grid, operations):\n",
    "    up, right, down, left = operations\n",
    "    n = (np.shape(grid)[0])**2\n",
    "    #arrow = np.empty(8,dtype= str)\n",
    "    arrow = []\n",
    "    first1, first2 = np.where(grid == 1)\n",
    "    first = np.concatenate((first1, first2))\n",
    "    for i in range(2,n+1):\n",
    "        second1,second2 = np.where(grid == i)\n",
    "        second = np.concatenate((second1, second2))\n",
    "        #arrow[i-2] = classify(second-first)\n",
    "        direction = classify(second-first, up, right, down, left)\n",
    "        arrow.append(direction)\n",
    "        first = second\n",
    "    return arrow"
   ]
  },
  {
   "cell_type": "code",
   "execution_count": 6,
   "metadata": {},
   "outputs": [
    {
     "name": "stdout",
     "output_type": "stream",
     "text": [
      "['-', '+', '/', '/', '*', '*', '-', '-']\n"
     ]
    }
   ],
   "source": [
    "operation0 = ['+','-','*','/']\n",
    "arrow0 = arrows(grid0, operation0)\n",
    "print(arrow0)"
   ]
  },
  {
   "cell_type": "code",
   "execution_count": 7,
   "metadata": {},
   "outputs": [
    {
     "name": "stdout",
     "output_type": "stream",
     "text": [
      "1 - 2\n",
      "-1\n",
      "2 + 3\n",
      "5\n",
      "3 / 4\n",
      "0.75\n",
      "4 / 5\n",
      "0.8\n",
      "5 * 6\n",
      "30\n",
      "6 * 7\n",
      "42\n",
      "7 - 8\n",
      "-1\n",
      "8 - 9\n",
      "-1\n",
      "-12.799999999999999\n"
     ]
    }
   ],
   "source": [
    "total = 1\n",
    "for i in range(len(arrow0)):\n",
    "    print(i+1, arrow0[i], i+2)\n",
    "    print(operate(i+1, arrow0[i], i+2))\n",
    "    \n",
    "for j in range(len(arrow0)):\n",
    "    total = operate(total, arrow0[j], j+2)\n",
    "print(total)"
   ]
  },
  {
   "cell_type": "code",
   "execution_count": 8,
   "metadata": {},
   "outputs": [],
   "source": [
    "def problem1(grid, operations):\n",
    "    arrow_problem = arrows(grid, operations)\n",
    "    total = 1\n",
    "    for i in range(len(arrow_problem)):\n",
    "        total = operate(total, arrow_problem[i], i+2)\n",
    "    return total, operations"
   ]
  },
  {
   "cell_type": "code",
   "execution_count": 9,
   "metadata": {},
   "outputs": [
    {
     "name": "stdout",
     "output_type": "stream",
     "text": [
      "('+', '-', '*', '/')\n",
      "('+', '-', '/', '*')\n",
      "('+', '*', '-', '/')\n",
      "('+', '*', '/', '-')\n",
      "('+', '/', '-', '*')\n",
      "('+', '/', '*', '-')\n",
      "('-', '+', '*', '/')\n",
      "('-', '+', '/', '*')\n",
      "('-', '*', '+', '/')\n",
      "('-', '*', '/', '+')\n",
      "('-', '/', '+', '*')\n",
      "('-', '/', '*', '+')\n",
      "('*', '+', '-', '/')\n",
      "('*', '+', '/', '-')\n",
      "('*', '-', '+', '/')\n",
      "('*', '-', '/', '+')\n",
      "('*', '/', '+', '-')\n",
      "('*', '/', '-', '+')\n",
      "('/', '+', '-', '*')\n",
      "('/', '+', '*', '-')\n",
      "('/', '-', '+', '*')\n",
      "('/', '-', '*', '+')\n",
      "('/', '*', '+', '-')\n",
      "('/', '*', '-', '+')\n"
     ]
    }
   ],
   "source": [
    "# Create the list operation permutations\n",
    "l = list(perm(operation0))\n",
    "for item in l:\n",
    "    print(item)"
   ]
  },
  {
   "cell_type": "code",
   "execution_count": 10,
   "metadata": {},
   "outputs": [
    {
     "name": "stdout",
     "output_type": "stream",
     "text": [
      "-12.799999999999999\n",
      "('+', '-', '*', '/')\n",
      "\n",
      "----------------------------------------------------------------------------------------------------\n",
      "\n",
      "-16.047619047619047\n",
      "('+', '-', '/', '*')\n",
      "\n",
      "----------------------------------------------------------------------------------------------------\n",
      "\n",
      "-918.0\n",
      "('+', '*', '-', '/')\n",
      "\n",
      "----------------------------------------------------------------------------------------------------\n",
      "\n",
      "-6.857142857142857\n",
      "('+', '*', '/', '-')\n",
      "\n",
      "----------------------------------------------------------------------------------------------------\n",
      "\n",
      "0.7916666666666666\n",
      "('+', '/', '-', '*')\n",
      "\n",
      "----------------------------------------------------------------------------------------------------\n",
      "\n",
      "-3.2083333333333335\n",
      "('+', '/', '*', '-')\n",
      "\n",
      "----------------------------------------------------------------------------------------------------\n",
      "\n",
      "17.0\n",
      "('-', '+', '*', '/')\n",
      "\n",
      "----------------------------------------------------------------------------------------------------\n",
      "\n",
      "17.0\n",
      "('-', '+', '/', '*')\n",
      "\n",
      "----------------------------------------------------------------------------------------------------\n",
      "\n",
      "932.4\n",
      "('-', '*', '+', '/')\n",
      "\n",
      "----------------------------------------------------------------------------------------------------\n",
      "\n",
      "13.714285714285714\n",
      "('-', '*', '/', '+')\n",
      "\n",
      "----------------------------------------------------------------------------------------------------\n",
      "\n",
      "-0.5138888888888888\n",
      "('-', '/', '+', '*')\n",
      "\n",
      "----------------------------------------------------------------------------------------------------\n",
      "\n",
      "3.7916666666666665\n",
      "('-', '/', '*', '+')\n",
      "\n",
      "----------------------------------------------------------------------------------------------------\n",
      "\n",
      "4.449999999999999\n",
      "('*', '+', '-', '/')\n",
      "\n",
      "----------------------------------------------------------------------------------------------------\n",
      "\n",
      "17.0\n",
      "('*', '+', '/', '-')\n",
      "\n",
      "----------------------------------------------------------------------------------------------------\n",
      "\n",
      "-4.15\n",
      "('*', '-', '+', '/')\n",
      "\n",
      "----------------------------------------------------------------------------------------------------\n",
      "\n",
      "-16.857142857142858\n",
      "('*', '-', '/', '+')\n",
      "\n",
      "----------------------------------------------------------------------------------------------------\n",
      "\n",
      "0.0763888888888889\n",
      "('*', '/', '+', '-')\n",
      "\n",
      "----------------------------------------------------------------------------------------------------\n",
      "\n",
      "-0.034722222222222224\n",
      "('*', '/', '-', '+')\n",
      "\n",
      "----------------------------------------------------------------------------------------------------\n",
      "\n",
      "24.0\n",
      "('/', '+', '-', '*')\n",
      "\n",
      "----------------------------------------------------------------------------------------------------\n",
      "\n",
      "-319.0\n",
      "('/', '+', '*', '-')\n",
      "\n",
      "----------------------------------------------------------------------------------------------------\n",
      "\n",
      "-10.666666666666666\n",
      "('/', '-', '+', '*')\n",
      "\n",
      "----------------------------------------------------------------------------------------------------\n",
      "\n",
      "347.0\n",
      "('/', '-', '*', '+')\n",
      "\n",
      "----------------------------------------------------------------------------------------------------\n",
      "\n",
      "335.99999999999994\n",
      "('/', '*', '+', '-')\n",
      "\n",
      "----------------------------------------------------------------------------------------------------\n",
      "\n",
      "-239.99999999999991\n",
      "('/', '*', '-', '+')\n",
      "\n",
      "----------------------------------------------------------------------------------------------------\n",
      "\n"
     ]
    }
   ],
   "source": [
    "# Check all of the spiral cases\n",
    "for operation in l:\n",
    "    total, item = problem1(grid0, operation)\n",
    "    print(total)\n",
    "    print(item)\n",
    "    print()\n",
    "    print('-'*100)\n",
    "    print()"
   ]
  },
  {
   "cell_type": "code",
   "execution_count": 11,
   "metadata": {},
   "outputs": [
    {
     "name": "stdout",
     "output_type": "stream",
     "text": [
      "The maximum total occured for ('-', '*', '+', '/') and was 932.4\n"
     ]
    }
   ],
   "source": [
    "total_array = np.zeros(len(l))\n",
    "for k in range(len(l)):\n",
    "    total, item = problem1(grid0, l[k])\n",
    "    total_array[k] = total\n",
    "\n",
    "argmax = np.argmax(total_array)\n",
    "print(f\"The maximum total occured for {l[argmax]} and was {total_array[argmax]}\")"
   ]
  },
  {
   "cell_type": "markdown",
   "metadata": {},
   "source": [
    "### Create the alternative 3x3 arrays ###"
   ]
  },
  {
   "cell_type": "code",
   "execution_count": 13,
   "metadata": {},
   "outputs": [
    {
     "name": "stdout",
     "output_type": "stream",
     "text": [
      "[[1 2 9]\n",
      " [4 3 8]\n",
      " [5 6 7]]\n",
      "The maximum total occured for ('*', '+', '/', '-') and was 892.8000000000001\n"
     ]
    }
   ],
   "source": [
    "arrangement1 = np.array([[1,2,9],[4,3,8],[5,6,7]])\n",
    "print(arrangement1)\n",
    "\n",
    "total_array1 = np.zeros(len(l))\n",
    "for k in range(len(l)):\n",
    "    total, item = problem1(arrangement1, l[k])\n",
    "    total_array1[k] = total\n",
    "\n",
    "argmax1 = np.argmax(total_array1)\n",
    "print(f\"The maximum total occured for {l[argmax1]} and was {total_array1[argmax1]}\")\n",
    "\n",
    "#print(arrows(arrangement1, l[argmax1]))"
   ]
  },
  {
   "cell_type": "code",
   "execution_count": 14,
   "metadata": {},
   "outputs": [
    {
     "name": "stdout",
     "output_type": "stream",
     "text": [
      "[[1 2 3]\n",
      " [6 5 4]\n",
      " [7 8 9]]\n",
      "The maximum total occured for ('-', '*', '+', '/') and was 528.0\n"
     ]
    }
   ],
   "source": [
    "arrangement2 = np.array([[1,2,3],[6,5,4],[7,8,9]])\n",
    "print(arrangement2)\n",
    "\n",
    "total_array2 = np.zeros(len(l))\n",
    "for k in range(len(l)):\n",
    "    total, item = problem1(arrangement2, l[k])\n",
    "    total_array2[k] = total\n",
    "\n",
    "argmax2 = np.argmax(total_array2)\n",
    "print(f\"The maximum total occured for {l[argmax2]} and was {total_array2[argmax2]}\")\n"
   ]
  },
  {
   "cell_type": "code",
   "execution_count": 15,
   "metadata": {},
   "outputs": [
    {
     "name": "stdout",
     "output_type": "stream",
     "text": [
      "[[1 2 3]\n",
      " [8 9 4]\n",
      " [7 6 5]]\n",
      "The maximum total occured for ('*', '-', '/', '+') and was 93.4\n"
     ]
    }
   ],
   "source": [
    "arrangement3 = np.array([[1,2,3],[8,9,4],[7,6,5]])\n",
    "print(arrangement3)\n",
    "\n",
    "total_array3 = np.zeros(len(l))\n",
    "for k in range(len(l)):\n",
    "    total, item = problem1(arrangement3, l[k])\n",
    "    total_array3[k] = total\n",
    "\n",
    "argmax3 = np.argmax(total_array3)\n",
    "print(f\"The maximum total occured for {l[argmax3]} and was {total_array3[argmax3]}\")\n"
   ]
  },
  {
   "cell_type": "code",
   "execution_count": 16,
   "metadata": {},
   "outputs": [
    {
     "name": "stdout",
     "output_type": "stream",
     "text": [
      "The maximum total occured for ('-', '/', '+', '*') and was 393.00000000000006\n"
     ]
    }
   ],
   "source": [
    "arrangement4 = np.array([[1,2,3],[8,7,4],[9,6,5]])\n",
    "total_array4 = np.zeros(len(l))\n",
    "for k in range(len(l)):\n",
    "    total, item = problem1(arrangement4, l[k])\n",
    "    total_array4[k] = total\n",
    "\n",
    "argmax4 = np.argmax(total_array4)\n",
    "print(f\"The maximum total occured for {l[argmax4]} and was {total_array4[argmax4]}\")"
   ]
  },
  {
   "cell_type": "markdown",
   "metadata": {},
   "source": [
    "## Extended problem ##"
   ]
  },
  {
   "cell_type": "code",
   "execution_count": 17,
   "metadata": {},
   "outputs": [
    {
     "name": "stdout",
     "output_type": "stream",
     "text": [
      "[(0, 0), (0, 1), (1, 0), (1, 1)]\n",
      "(0, 1)\n"
     ]
    }
   ],
   "source": [
    "n = 3 \n",
    "# coordinate of 1\n",
    "range1 = int(np.ceil(n/2))\n",
    "loc_1 = []\n",
    "for i in range(range1):\n",
    "    for j in range(range1):\n",
    "        loc_1.append((i,j))\n",
    "print(loc_1)\n",
    "print(loc_1[1])\n"
   ]
  },
  {
   "cell_type": "code",
   "execution_count": 18,
   "metadata": {},
   "outputs": [
    {
     "name": "stdout",
     "output_type": "stream",
     "text": [
      "[[(0, 0), (0, 1), (1, 0), (1, 1)]]\n",
      "[1 0]\n",
      "[0 1]\n",
      "[1 1]\n",
      "[0 2]\n",
      "[2 0]\n",
      "[1 1]\n",
      "[2 1]\n",
      "[1 2]\n",
      "[[(0, 0), (0, 1), (1, 0), (1, 1)], [[array([1, 0]), array([0, 1])], [array([1, 1]), array([0, 2])], [array([2, 0]), array([1, 1])], [array([2, 1]), array([1, 2])]]]\n",
      "\n",
      "[array([1, 0]), array([0, 1])]\n"
     ]
    }
   ],
   "source": [
    "# make arrays\n",
    "array_options = [loc_1]\n",
    "for i in range(1,2):\n",
    "    new_options = []\n",
    "    print(array_options)\n",
    "    for option in array_options[i-1]:\n",
    "        new_option1 = np.array([1,0]) + np.asarray(option)\n",
    "        new_option2 = np.array([0,1]) + np.asarray(option)\n",
    "        print(new_option1)\n",
    "        print(new_option2)\n",
    "        new_options.append([new_option1, new_option2])\n",
    "    array_options.append(new_options)\n",
    "print(array_options)\n",
    "print()\n",
    "print(array_options[1][0])"
   ]
  },
  {
   "cell_type": "code",
   "execution_count": 21,
   "metadata": {},
   "outputs": [],
   "source": [
    "def direction_generator(int):\n",
    "    up = np.array([-1,0])\n",
    "    right = np.array([0,1])\n",
    "    down = np.array([1,0])\n",
    "    left = np.array([0,-1])\n",
    "    if int == 0:\n",
    "        direction = up\n",
    "    elif int == 1:\n",
    "        direction = right\n",
    "    elif int == 2:\n",
    "        direction = down\n",
    "    elif int == 3:\n",
    "        direction = left\n",
    "    else: \n",
    "        int = int(4*rand.random())\n",
    "        direction = direction_generator(int)\n",
    "    return direction"
   ]
  },
  {
   "cell_type": "code",
   "execution_count": 45,
   "metadata": {},
   "outputs": [],
   "source": [
    "@jit \n",
    "def move_choices(array,previous_row, previous_column):\n",
    "    n = np.shape(array)[0]\n",
    "    moves = []\n",
    "    up = (previous_row - 1, previous_column + 0)\n",
    "    right = (previous_row + 0, previous_column + 1)\n",
    "    down = (previous_row + 1, previous_column + 0)\n",
    "    left = (previous_row + 0, previous_column - 1)\n",
    "    possibilities = [up,right,down,left]\n",
    "    #print(possibilities)\n",
    "    for direc in possibilities:\n",
    "        #print(direc)\n",
    "        direc_row, direc_column = direc\n",
    "        if not((direc_row < 0) or (direc_column < 0) or (direc_row > n-1) or (direc_column > n-1)):\n",
    "            if array[direc_row, direc_column] == 0:\n",
    "                #print(\"YES\")\n",
    "                moves.append(direc)\n",
    "    return moves"
   ]
  },
  {
   "cell_type": "code",
   "execution_count": 46,
   "metadata": {},
   "outputs": [],
   "source": [
    "@jit \n",
    "def array_structure(n,row1, column1, counter=0):\n",
    "    array = np.zeros((n,n))\n",
    "    move1_a = row1\n",
    "    move1_b = column1\n",
    "    array[move1_a, move1_b] = 1\n",
    "    #print(array)\n",
    "    last_loc_a, last_loc_b = move1_a, move1_b\n",
    "    for i in range(2,n*n+1):\n",
    "        moves = move_choices(array, last_loc_a, last_loc_b)\n",
    "        l = len(moves)\n",
    "        #print(f\"length of moves is {l}\")\n",
    "        if counter > 100:\n",
    "            array = str(\"No array\")\n",
    "            break\n",
    "        elif l == 0:\n",
    "            counter += 1\n",
    "            array = array_structure(n,row1, column1, counter = counter)\n",
    "            break\n",
    "        else:\n",
    "            index = int(l * rand.random())\n",
    "            while index == l:\n",
    "                index = int(l * rand.random())\n",
    "            move_a, move_b = moves[index]\n",
    "            array[move_a, move_b] = i \n",
    "            last_loc_a, last_loc_b = move_a, move_b\n",
    "            #print(array)\n",
    "    counter = 0\n",
    "    return array"
   ]
  },
  {
   "cell_type": "code",
   "execution_count": 35,
   "metadata": {},
   "outputs": [
    {
     "name": "stdout",
     "output_type": "stream",
     "text": [
      "[[5. 6. 7.]\n",
      " [4. 1. 8.]\n",
      " [3. 2. 9.]]\n"
     ]
    }
   ],
   "source": [
    "print(array_structure(3,1,1))"
   ]
  },
  {
   "cell_type": "code",
   "execution_count": 36,
   "metadata": {},
   "outputs": [
    {
     "name": "stdout",
     "output_type": "stream",
     "text": [
      "[[1. 4. 5.]\n",
      " [2. 3. 6.]\n",
      " [9. 8. 7.]]\n"
     ]
    }
   ],
   "source": [
    "print(array_structure(3,0,0))"
   ]
  },
  {
   "cell_type": "code",
   "execution_count": 47,
   "metadata": {},
   "outputs": [],
   "source": [
    "@jit \n",
    "def max_arrangement(array,permutations):\n",
    "    total_array = np.zeros(len(permutations))\n",
    "    for k in range(len(permutations)):\n",
    "        total, item = problem1(array, permutations[k])\n",
    "        total_array[k] = total\n",
    "    return np.max(total_array)"
   ]
  },
  {
   "cell_type": "code",
   "execution_count": 49,
   "metadata": {},
   "outputs": [
    {
     "name": "stdout",
     "output_type": "stream",
     "text": [
      "93.4\n"
     ]
    }
   ],
   "source": [
    "# Checking my function performs correctly in a known case\n",
    "arrangement3 = np.array([[1,2,3],[8,9,4],[7,6,5]])\n",
    "print(max_arrangement(arrangement3,l))"
   ]
  },
  {
   "cell_type": "code",
   "execution_count": 71,
   "metadata": {},
   "outputs": [],
   "source": [
    "@jit \n",
    "def extension(repeats, n):\n",
    "    range1 = int(np.ceil(n/2))\n",
    "    locations = []\n",
    "    for i in range(range1):\n",
    "        for j in range(range1):\n",
    "            locations.append((i,j))\n",
    "\n",
    "    l = list(perm(operation0))\n",
    "    iterations = int(repeats)\n",
    "    \n",
    "    max = 0\n",
    "    max_array = np.zeros((n,n))\n",
    "    total_sum = []\n",
    "    for pair in locations:\n",
    "        index1_a, index1_b = pair\n",
    "        #print(index1_a)\n",
    "        #print(index1_b)\n",
    "        for j in range(iterations):\n",
    "            array = array_structure(n,index1_a, index1_b)\n",
    "            if not(type(array) == str):\n",
    "                total_array = np.zeros(len(l))\n",
    "                for k in range(len(l)):\n",
    "                    total, item = problem1(array, l[k])\n",
    "                    total_array[k] = total\n",
    "                max_in_arrangement = np.max(total_array)\n",
    "                total_sum.append(max_in_arrangement)\n",
    "                if max_in_arrangement > max:\n",
    "                    max = max_in_arrangement\n",
    "                    max_array = array\n",
    "                    \n",
    "    maxima = set(total_sum)\n",
    "    return maxima, max, max_array"
   ]
  },
  {
   "cell_type": "code",
   "execution_count": 78,
   "metadata": {},
   "outputs": [
    {
     "name": "stdout",
     "output_type": "stream",
     "text": [
      "{932.4, 393.00000000000006, 528.0, 892.8000000000001, 93.4}\n",
      "\n",
      "932.4\n",
      "[[5. 6. 7.]\n",
      " [4. 1. 8.]\n",
      " [3. 2. 9.]]\n",
      "\n"
     ]
    }
   ],
   "source": [
    "maxima3, max3, max_array3 = extension(1e3,3)\n",
    "print(maxima3)\n",
    "print()\n",
    "print(max3)\n",
    "print(max_array3)\n",
    "print()"
   ]
  },
  {
   "cell_type": "code",
   "execution_count": 79,
   "metadata": {},
   "outputs": [
    {
     "name": "stdout",
     "output_type": "stream",
     "text": [
      "{161280.0, 389760.0, 1975680.0000000005, 119171.73333333334, 2565.318181818182, 6279.5, 46343.5, 5257.25, 38794.133928571435, 30602.000000000004, 54155.142857142855, 62349.5, 29325.600000000002, 6797.25, 115728.0, 4497.6, 5005.642857142857, 121226.0, 4503.5, 62107.5, 53020.45454545456, 4895.5, 146720.0, 27426.357142857145, 29091.42857142857, 40740.4, 89770.66666666666, 8747.25, 22572.190476190473, 33454.42045454545, 60720.812500000015, 14897.25, 5554.285714285714, 97719.99999999999, 32058.39772727272, 1215.95, 1088.7333333333333, 75840.0, 5312.666666666667, 1068480.0, 4292.625, 216900.00000000003, 120390.66666666667, 90176.91666666666, 115400.0, 118208.99999999999, 85962.14814814816, 8654.933333333336, 85839.97222222222, 357840.00000000006, 4087.15625, 7637.333333333333, 3801.6, 19162.285714285714, 45530.66666666667, 37468.0, 120922.66666666666, 16607.692307692305, 5681760.0, 115296.00000000001, 1379.956043956044, 19174.09090909091, 20711.625, 54007.03571428571, 55789.42857142857, 6391.333333333334, 40568.8, 6397.52380952381, 69887.60714285714}\n",
      "\n",
      "5681760.0\n",
      "[[ 1.  8.  9. 16.]\n",
      " [ 2.  7. 10. 15.]\n",
      " [ 3.  6. 11. 14.]\n",
      " [ 4.  5. 12. 13.]]\n",
      "\n"
     ]
    }
   ],
   "source": [
    "maxima4, max4, max_array4 = extension(1e3, 4)\n",
    "print(maxima4)\n",
    "print()\n",
    "print(max4)\n",
    "print(max_array4)\n",
    "print()"
   ]
  },
  {
   "cell_type": "code",
   "execution_count": 80,
   "metadata": {},
   "outputs": [
    {
     "name": "stdout",
     "output_type": "stream",
     "text": [
      "1362604465200.0\n",
      "[[ 1.  2.  3.  4.  5.]\n",
      " [10.  9.  8.  7.  6.]\n",
      " [11. 12. 13. 14. 15.]\n",
      " [20. 19. 18. 17. 16.]\n",
      " [21. 22. 23. 24. 25.]]\n",
      "\n"
     ]
    }
   ],
   "source": [
    "maxima5, max5, max_array5 = extension(1e3, 5)\n",
    "#print(maxima5)\n",
    "#print()\n",
    "print(max5)\n",
    "print(max_array5)\n",
    "print()"
   ]
  },
  {
   "cell_type": "code",
   "execution_count": 81,
   "metadata": {},
   "outputs": [
    {
     "name": "stdout",
     "output_type": "stream",
     "text": [
      "1.9380822968662848e+17\n",
      "[[36. 25. 24. 23. 16. 15.]\n",
      " [35. 26.  1. 22. 17. 14.]\n",
      " [34. 27.  2. 21. 18. 13.]\n",
      " [33. 28.  3. 20. 19. 12.]\n",
      " [32. 29.  4.  7.  8. 11.]\n",
      " [31. 30.  5.  6.  9. 10.]]\n",
      "\n"
     ]
    }
   ],
   "source": [
    "maxima6, max6, max_array6 = extension(2e3, 6)\n",
    "#print(maxima5)\n",
    "#print()\n",
    "print(max6)\n",
    "print(max_array6)\n",
    "print()"
   ]
  },
  {
   "cell_type": "code",
   "execution_count": 83,
   "metadata": {},
   "outputs": [
    {
     "name": "stdout",
     "output_type": "stream",
     "text": [
      "Results for cases n=3,4,5,6 are shown below\n",
      "\n",
      "The maximum value I can make for n=3 is 932.4, which is generated by the following array: \n",
      " [[5. 6. 7.]\n",
      " [4. 1. 8.]\n",
      " [3. 2. 9.]]\n",
      "The maximum value I can make for n=4 is 5681760.0, which is generated by the following array: \n",
      " [[ 1.  8.  9. 16.]\n",
      " [ 2.  7. 10. 15.]\n",
      " [ 3.  6. 11. 14.]\n",
      " [ 4.  5. 12. 13.]]\n",
      "The maximum value I can make for n=5 is 1362604465200.0, which is generated by the following array: \n",
      " [[ 1.  2.  3.  4.  5.]\n",
      " [10.  9.  8.  7.  6.]\n",
      " [11. 12. 13. 14. 15.]\n",
      " [20. 19. 18. 17. 16.]\n",
      " [21. 22. 23. 24. 25.]]\n",
      "The maximum value I can make for n=6 is 1.9380822968662848e+17, which is generated by the following array: \n",
      " [[36. 25. 24. 23. 16. 15.]\n",
      " [35. 26.  1. 22. 17. 14.]\n",
      " [34. 27.  2. 21. 18. 13.]\n",
      " [33. 28.  3. 20. 19. 12.]\n",
      " [32. 29.  4.  7.  8. 11.]\n",
      " [31. 30.  5.  6.  9. 10.]]\n"
     ]
    }
   ],
   "source": [
    "print(\"Results for cases n=3,4,5,6 are shown below\")\n",
    "print()\n",
    "print(f\"The maximum value I can make for n=3 is {max3}, which is generated by the following array: \\n {max_array3}\")\n",
    "print(f\"The maximum value I can make for n=4 is {max4}, which is generated by the following array: \\n {max_array4}\")\n",
    "print(f\"The maximum value I can make for n=5 is {max5}, which is generated by the following array: \\n {max_array5}\")\n",
    "print(f\"The maximum value I can make for n=6 is {max6}, which is generated by the following array: \\n {max_array6}\")\n"
   ]
  },
  {
   "cell_type": "code",
   "execution_count": null,
   "metadata": {},
   "outputs": [],
   "source": []
  }
 ],
 "metadata": {
  "kernelspec": {
   "display_name": "base",
   "language": "python",
   "name": "python3"
  },
  "language_info": {
   "codemirror_mode": {
    "name": "ipython",
    "version": 3
   },
   "file_extension": ".py",
   "mimetype": "text/x-python",
   "name": "python",
   "nbconvert_exporter": "python",
   "pygments_lexer": "ipython3",
   "version": "3.9.7"
  }
 },
 "nbformat": 4,
 "nbformat_minor": 2
}
