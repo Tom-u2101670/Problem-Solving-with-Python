{
 "cells": [
  {
   "cell_type": "code",
   "execution_count": 51,
   "id": "0eb2cf60-9514-438b-b5d9-b6971c3329ac",
   "metadata": {},
   "outputs": [],
   "source": [
    "import numpy as np\n",
    "import matplotlib.pyplot as plt\n",
    "%matplotlib osx"
   ]
  },
  {
   "cell_type": "code",
   "execution_count": 6,
   "id": "5e96b37f-6f37-446f-b6ce-3a73debdd705",
   "metadata": {},
   "outputs": [],
   "source": [
    "def chain(x = 0, y = 0, rand = True, n=22):\n",
    "    if rand:\n",
    "        x = np.random.randint(0,10)\n",
    "        y = np.random.randint(0,10)\n",
    "    \n",
    "    print(f\"({x},{y})\")\n",
    "    \n",
    "    chain = np.zeros(n)\n",
    "    chain[0] = x\n",
    "    chain[1] = y\n",
    "    \n",
    "    for i in range(n-2):\n",
    "        chain[i+2] = ((chain[i] + chain[i+1]) % 10)\n",
    "    \n",
    "    return chain"
   ]
  },
  {
   "cell_type": "markdown",
   "id": "0639ba82",
   "metadata": {},
   "source": [
    "First I look at extending the sequence already given using my chain idea."
   ]
  },
  {
   "cell_type": "code",
   "execution_count": 7,
   "id": "c96c8f7f",
   "metadata": {},
   "outputs": [
    {
     "name": "stdout",
     "output_type": "stream",
     "text": [
      "(1,5)\n",
      "[1. 5. 6. 1. 7. 8. 5. 3. 8. 1. 9. 0. 9. 9. 8. 7. 5. 2. 7. 9. 6. 5. 1. 6.\n",
      " 7. 3. 0. 3. 3. 6.]\n"
     ]
    }
   ],
   "source": [
    "example = chain(1,5,rand=False, n=30)\n",
    "print(example)"
   ]
  },
  {
   "cell_type": "markdown",
   "id": "5f02fe06",
   "metadata": {},
   "source": [
    "I specialise the problem below for some random starting pairs of integers."
   ]
  },
  {
   "cell_type": "code",
   "execution_count": 24,
   "id": "65cf5ad2-aa20-49c0-9090-e8dc9e40551d",
   "metadata": {},
   "outputs": [
    {
     "name": "stdout",
     "output_type": "stream",
     "text": [
      "(1,0)\n",
      "[1. 0. 1. 1. 2. 3. 5. 8. 3. 1. 4. 5. 9. 4. 3. 7. 0. 7. 7. 4. 1. 5.]\n",
      "(6,5)\n",
      "[6. 5. 1. 6. 7. 3. 0. 3. 3. 6. 9. 5. 4. 9. 3. 2. 5. 7. 2. 9. 1. 0.]\n",
      "(1,2)\n",
      "[1. 2. 3. 5. 8. 3. 1. 4. 5. 9. 4. 3. 7. 0. 7. 7. 4. 1. 5. 6. 1. 7.]\n",
      "(6,7)\n",
      "[6. 7. 3. 0. 3. 3. 6. 9. 5. 4. 9. 3. 2. 5. 7. 2. 9. 1. 0. 1. 1. 2.]\n",
      "(0,3)\n",
      "[0. 3. 3. 6. 9. 5. 4. 9. 3. 2. 5. 7. 2. 9. 1. 0. 1. 1. 2. 3. 5. 8.]\n"
     ]
    }
   ],
   "source": [
    "for j in range(5):\n",
    "    c = chain()\n",
    "    print(c)"
   ]
  },
  {
   "cell_type": "markdown",
   "id": "a3859b86",
   "metadata": {},
   "source": [
    "I hypothesised there was only one sequence, but we check this claim below. If there is only one, there should be 100 pairs of integers (since we have 10 options per integer).\n",
    "\n",
    "Whilst writing the code, clearly there is another sequence of just zeros so i now look for 99 pairs in my sequence not starting 0,0."
   ]
  },
  {
   "cell_type": "code",
   "execution_count": 25,
   "id": "97226cf7",
   "metadata": {},
   "outputs": [
    {
     "name": "stdout",
     "output_type": "stream",
     "text": [
      "60\n"
     ]
    }
   ],
   "source": [
    "x1 = 0\n",
    "x2 = 1\n",
    "x3 = (x1 + x2) % 10\n",
    "count = 1\n",
    "\n",
    "a = x2\n",
    "b = x3\n",
    "for i in range(100):\n",
    "    if a == x1 and b == x2:\n",
    "        print(count)\n",
    "        break\n",
    "    else:\n",
    "        count += 1\n",
    "        intermediate = (a + b) % 10\n",
    "        a = b\n",
    "        b = intermediate"
   ]
  },
  {
   "cell_type": "markdown",
   "id": "b789db09",
   "metadata": {},
   "source": [
    "This was not the result that I was expecting, therefore my initial hypothesis must have been false. Evidently there are some pairs which don't get made when starting with 01. Therefore, I now write a code to check off the pairs that have been generated and to generate new sequences with those ungenerated pairs. In my notes, I found 6 sequences, so I am expecting a count of 6 different sequences (including the 00 sequence)."
   ]
  },
  {
   "cell_type": "code",
   "execution_count": 26,
   "id": "5e9bdc06-3d88-4144-8720-f217bda65860",
   "metadata": {},
   "outputs": [],
   "source": [
    "def check_theory():\n",
    "    index = np.zeros((10,10))\n",
    "    N = 100\n",
    "    count = 0\n",
    "    for i in range(10):\n",
    "        for j in range(10):\n",
    "            if index[i,j] == 0:\n",
    "                index[i,j] = 1\n",
    "                chain = np.zeros(N)\n",
    "                chain[0] = i\n",
    "                chain[1] = j\n",
    "                old = i\n",
    "                new = j\n",
    "                for n in range(N-2):     \n",
    "                    old = new\n",
    "                    new = (chain[n] + chain[n+1]) % 10\n",
    "                    \n",
    "                    index[int(old),int(new)] = 1\n",
    "                    \n",
    "                    chain[n+2] = new\n",
    "                print(index)\n",
    "                print()\n",
    "                print(chain)\n",
    "                print()\n",
    "                print('-'*100)\n",
    "                print()\n",
    "                count += 1\n",
    "    truth = np.array_equal(index, np.ones((10,10)))\n",
    "    return truth, count"
   ]
  },
  {
   "cell_type": "code",
   "execution_count": 28,
   "id": "5c89d2f6-9cb7-44b2-ae7e-8aed5a5440a0",
   "metadata": {
    "tags": []
   },
   "outputs": [
    {
     "name": "stdout",
     "output_type": "stream",
     "text": [
      "[[1. 0. 0. 0. 0. 0. 0. 0. 0. 0.]\n",
      " [0. 0. 0. 0. 0. 0. 0. 0. 0. 0.]\n",
      " [0. 0. 0. 0. 0. 0. 0. 0. 0. 0.]\n",
      " [0. 0. 0. 0. 0. 0. 0. 0. 0. 0.]\n",
      " [0. 0. 0. 0. 0. 0. 0. 0. 0. 0.]\n",
      " [0. 0. 0. 0. 0. 0. 0. 0. 0. 0.]\n",
      " [0. 0. 0. 0. 0. 0. 0. 0. 0. 0.]\n",
      " [0. 0. 0. 0. 0. 0. 0. 0. 0. 0.]\n",
      " [0. 0. 0. 0. 0. 0. 0. 0. 0. 0.]\n",
      " [0. 0. 0. 0. 0. 0. 0. 0. 0. 0.]]\n",
      "\n",
      "[0. 0. 0. 0. 0. 0. 0. 0. 0. 0. 0. 0. 0. 0. 0. 0. 0. 0. 0. 0. 0. 0. 0. 0.\n",
      " 0. 0. 0. 0. 0. 0. 0. 0. 0. 0. 0. 0. 0. 0. 0. 0. 0. 0. 0. 0. 0. 0. 0. 0.\n",
      " 0. 0. 0. 0. 0. 0. 0. 0. 0. 0. 0. 0. 0. 0. 0. 0. 0. 0. 0. 0. 0. 0. 0. 0.\n",
      " 0. 0. 0. 0. 0. 0. 0. 0. 0. 0. 0. 0. 0. 0. 0. 0. 0. 0. 0. 0. 0. 0. 0. 0.\n",
      " 0. 0. 0. 0.]\n",
      "\n",
      "----------------------------------------------------------------------------------------------------\n",
      "\n",
      "[[1. 1. 0. 1. 0. 0. 0. 1. 0. 1.]\n",
      " [1. 1. 1. 0. 1. 1. 1. 1. 0. 1.]\n",
      " [0. 0. 0. 1. 0. 1. 0. 1. 0. 1.]\n",
      " [1. 1. 1. 1. 0. 1. 1. 1. 1. 0.]\n",
      " [0. 1. 0. 1. 0. 1. 0. 0. 0. 1.]\n",
      " [0. 1. 1. 1. 1. 0. 1. 1. 1. 1.]\n",
      " [0. 1. 0. 0. 0. 1. 0. 1. 0. 1.]\n",
      " [1. 0. 1. 1. 1. 1. 0. 1. 1. 1.]\n",
      " [0. 1. 0. 1. 0. 1. 0. 1. 0. 0.]\n",
      " [1. 1. 0. 1. 1. 1. 1. 0. 1. 1.]]\n",
      "\n",
      "[0. 1. 1. 2. 3. 5. 8. 3. 1. 4. 5. 9. 4. 3. 7. 0. 7. 7. 4. 1. 5. 6. 1. 7.\n",
      " 8. 5. 3. 8. 1. 9. 0. 9. 9. 8. 7. 5. 2. 7. 9. 6. 5. 1. 6. 7. 3. 0. 3. 3.\n",
      " 6. 9. 5. 4. 9. 3. 2. 5. 7. 2. 9. 1. 0. 1. 1. 2. 3. 5. 8. 3. 1. 4. 5. 9.\n",
      " 4. 3. 7. 0. 7. 7. 4. 1. 5. 6. 1. 7. 8. 5. 3. 8. 1. 9. 0. 9. 9. 8. 7. 5.\n",
      " 2. 7. 9. 6.]\n",
      "\n",
      "----------------------------------------------------------------------------------------------------\n",
      "\n",
      "[[1. 1. 1. 1. 1. 0. 1. 1. 1. 1.]\n",
      " [1. 1. 1. 0. 1. 1. 1. 1. 0. 1.]\n",
      " [1. 0. 1. 1. 1. 1. 0. 1. 1. 1.]\n",
      " [1. 1. 1. 1. 0. 1. 1. 1. 1. 0.]\n",
      " [1. 1. 0. 1. 1. 1. 1. 0. 1. 1.]\n",
      " [0. 1. 1. 1. 1. 0. 1. 1. 1. 1.]\n",
      " [1. 1. 1. 0. 1. 1. 1. 1. 0. 1.]\n",
      " [1. 0. 1. 1. 1. 1. 0. 1. 1. 1.]\n",
      " [1. 1. 1. 1. 0. 1. 1. 1. 1. 0.]\n",
      " [1. 1. 0. 1. 1. 1. 1. 0. 1. 1.]]\n",
      "\n",
      "[0. 2. 2. 4. 6. 0. 6. 6. 2. 8. 0. 8. 8. 6. 4. 0. 4. 4. 8. 2. 0. 2. 2. 4.\n",
      " 6. 0. 6. 6. 2. 8. 0. 8. 8. 6. 4. 0. 4. 4. 8. 2. 0. 2. 2. 4. 6. 0. 6. 6.\n",
      " 2. 8. 0. 8. 8. 6. 4. 0. 4. 4. 8. 2. 0. 2. 2. 4. 6. 0. 6. 6. 2. 8. 0. 8.\n",
      " 8. 6. 4. 0. 4. 4. 8. 2. 0. 2. 2. 4. 6. 0. 6. 6. 2. 8. 0. 8. 8. 6. 4. 0.\n",
      " 4. 4. 8. 2.]\n",
      "\n",
      "----------------------------------------------------------------------------------------------------\n",
      "\n",
      "[[1. 1. 1. 1. 1. 1. 1. 1. 1. 1.]\n",
      " [1. 1. 1. 0. 1. 1. 1. 1. 0. 1.]\n",
      " [1. 0. 1. 1. 1. 1. 0. 1. 1. 1.]\n",
      " [1. 1. 1. 1. 0. 1. 1. 1. 1. 0.]\n",
      " [1. 1. 0. 1. 1. 1. 1. 0. 1. 1.]\n",
      " [1. 1. 1. 1. 1. 1. 1. 1. 1. 1.]\n",
      " [1. 1. 1. 0. 1. 1. 1. 1. 0. 1.]\n",
      " [1. 0. 1. 1. 1. 1. 0. 1. 1. 1.]\n",
      " [1. 1. 1. 1. 0. 1. 1. 1. 1. 0.]\n",
      " [1. 1. 0. 1. 1. 1. 1. 0. 1. 1.]]\n",
      "\n",
      "[0. 5. 5. 0. 5. 5. 0. 5. 5. 0. 5. 5. 0. 5. 5. 0. 5. 5. 0. 5. 5. 0. 5. 5.\n",
      " 0. 5. 5. 0. 5. 5. 0. 5. 5. 0. 5. 5. 0. 5. 5. 0. 5. 5. 0. 5. 5. 0. 5. 5.\n",
      " 0. 5. 5. 0. 5. 5. 0. 5. 5. 0. 5. 5. 0. 5. 5. 0. 5. 5. 0. 5. 5. 0. 5. 5.\n",
      " 0. 5. 5. 0. 5. 5. 0. 5. 5. 0. 5. 5. 0. 5. 5. 0. 5. 5. 0. 5. 5. 0. 5. 5.\n",
      " 0. 5. 5. 0.]\n",
      "\n",
      "----------------------------------------------------------------------------------------------------\n",
      "\n",
      "[[1. 1. 1. 1. 1. 1. 1. 1. 1. 1.]\n",
      " [1. 1. 1. 1. 1. 1. 1. 1. 1. 1.]\n",
      " [1. 1. 1. 1. 1. 1. 0. 1. 1. 1.]\n",
      " [1. 1. 1. 1. 1. 1. 1. 1. 1. 1.]\n",
      " [1. 1. 0. 1. 1. 1. 1. 1. 1. 1.]\n",
      " [1. 1. 1. 1. 1. 1. 1. 1. 1. 1.]\n",
      " [1. 1. 1. 1. 1. 1. 1. 1. 0. 1.]\n",
      " [1. 1. 1. 1. 1. 1. 1. 1. 1. 1.]\n",
      " [1. 1. 1. 1. 0. 1. 1. 1. 1. 1.]\n",
      " [1. 1. 1. 1. 1. 1. 1. 1. 1. 1.]]\n",
      "\n",
      "[1. 3. 4. 7. 1. 8. 9. 7. 6. 3. 9. 2. 1. 3. 4. 7. 1. 8. 9. 7. 6. 3. 9. 2.\n",
      " 1. 3. 4. 7. 1. 8. 9. 7. 6. 3. 9. 2. 1. 3. 4. 7. 1. 8. 9. 7. 6. 3. 9. 2.\n",
      " 1. 3. 4. 7. 1. 8. 9. 7. 6. 3. 9. 2. 1. 3. 4. 7. 1. 8. 9. 7. 6. 3. 9. 2.\n",
      " 1. 3. 4. 7. 1. 8. 9. 7. 6. 3. 9. 2. 1. 3. 4. 7. 1. 8. 9. 7. 6. 3. 9. 2.\n",
      " 1. 3. 4. 7.]\n",
      "\n",
      "----------------------------------------------------------------------------------------------------\n",
      "\n",
      "[[1. 1. 1. 1. 1. 1. 1. 1. 1. 1.]\n",
      " [1. 1. 1. 1. 1. 1. 1. 1. 1. 1.]\n",
      " [1. 1. 1. 1. 1. 1. 1. 1. 1. 1.]\n",
      " [1. 1. 1. 1. 1. 1. 1. 1. 1. 1.]\n",
      " [1. 1. 1. 1. 1. 1. 1. 1. 1. 1.]\n",
      " [1. 1. 1. 1. 1. 1. 1. 1. 1. 1.]\n",
      " [1. 1. 1. 1. 1. 1. 1. 1. 1. 1.]\n",
      " [1. 1. 1. 1. 1. 1. 1. 1. 1. 1.]\n",
      " [1. 1. 1. 1. 1. 1. 1. 1. 1. 1.]\n",
      " [1. 1. 1. 1. 1. 1. 1. 1. 1. 1.]]\n",
      "\n",
      "[2. 6. 8. 4. 2. 6. 8. 4. 2. 6. 8. 4. 2. 6. 8. 4. 2. 6. 8. 4. 2. 6. 8. 4.\n",
      " 2. 6. 8. 4. 2. 6. 8. 4. 2. 6. 8. 4. 2. 6. 8. 4. 2. 6. 8. 4. 2. 6. 8. 4.\n",
      " 2. 6. 8. 4. 2. 6. 8. 4. 2. 6. 8. 4. 2. 6. 8. 4. 2. 6. 8. 4. 2. 6. 8. 4.\n",
      " 2. 6. 8. 4. 2. 6. 8. 4. 2. 6. 8. 4. 2. 6. 8. 4. 2. 6. 8. 4. 2. 6. 8. 4.\n",
      " 2. 6. 8. 4.]\n",
      "\n",
      "----------------------------------------------------------------------------------------------------\n",
      "\n",
      "All pairs have been generated from the number of sequneces below\n",
      "The number of bracelets generated was 6\n"
     ]
    }
   ],
   "source": [
    "truth, count = check_theory()\n",
    "if truth:\n",
    "    print(\"All pairs have been generated from the number of sequneces below\")\n",
    "    print(f\"The number of bracelets generated was {count}\")\n",
    "else:\n",
    "    print(\"There is a mistake in the function since not all pairs have been generated\")"
   ]
  },
  {
   "cell_type": "markdown",
   "id": "07e319d0-0c82-4f96-bdbf-b3844347563e",
   "metadata": {},
   "source": [
    "## Extending the Problem ##\n",
    "We could generalise this problem by asking how many bracelets are there for any given integer n, where we pick 2 numberd less than n to start with."
   ]
  },
  {
   "cell_type": "code",
   "execution_count": 37,
   "id": "cfc86412",
   "metadata": {},
   "outputs": [],
   "source": [
    "def extension(n):\n",
    "    index = np.zeros((n,n))\n",
    "    N = n**2\n",
    "    count = 0\n",
    "    for i in range(n):\n",
    "        for j in range(n):\n",
    "            if index[i,j] == 0:\n",
    "                index[i,j] = 1\n",
    "                chain = [i,j]\n",
    "                old = i\n",
    "                new = j\n",
    "                for k in range(N-2):     \n",
    "                    old = new\n",
    "                    new = (chain[k] + chain[k+1]) % n\n",
    "                    if index[int(old),int(new)] == 1:\n",
    "                        break\n",
    "                    else:\n",
    "                        index[int(old),int(new)] = 1\n",
    "                        chain.append(new)\n",
    "                count += 1\n",
    "    truth = np.array_equal(index, np.ones((n,n)))\n",
    "    assert truth == True\n",
    "    return count"
   ]
  },
  {
   "cell_type": "code",
   "execution_count": 60,
   "id": "d83f8193",
   "metadata": {},
   "outputs": [],
   "source": [
    "#Check code works for n = 10\n",
    "assert extension(10) == 6\n",
    "n0 = 5\n",
    "n1 = 50\n",
    "bracelets = np.zeros(n1-n0 + 1)\n",
    "for n in range(n0,n1+1):\n",
    "    bracelets[n-n0] = extension(n)\n",
    "plt.plot((n0 + np.arange(n1-n0+1)),bracelets, label = 'number of bracelets')\n",
    "#plt.plot((n0 + np.arange(n1-n0+1)), (n0 + np.arange(n1-n0+1)), 'r--', label = 'y=x')\n",
    "plt.xlabel(\"n\")\n",
    "plt.ylabel(\"number of bracelets\")\n",
    "plt.title(\"Extension of bracelet problem - effect of choice of n\")\n",
    "#plt.legend()\n",
    "plt.show()\n",
    "\n",
    "plt.savefig('bracelet_extension.pdf')"
   ]
  },
  {
   "cell_type": "code",
   "execution_count": null,
   "id": "44fab164",
   "metadata": {},
   "outputs": [],
   "source": []
  }
 ],
 "metadata": {
  "kernelspec": {
   "display_name": "Python 3 (ipykernel)",
   "language": "python",
   "name": "python3"
  },
  "language_info": {
   "codemirror_mode": {
    "name": "ipython",
    "version": 3
   },
   "file_extension": ".py",
   "mimetype": "text/x-python",
   "name": "python",
   "nbconvert_exporter": "python",
   "pygments_lexer": "ipython3",
   "version": "3.9.7"
  }
 },
 "nbformat": 4,
 "nbformat_minor": 5
}
