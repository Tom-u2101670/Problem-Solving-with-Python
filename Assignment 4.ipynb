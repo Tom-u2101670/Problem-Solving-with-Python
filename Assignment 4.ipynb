{
 "cells": [
  {
   "cell_type": "code",
   "execution_count": 80,
   "metadata": {},
   "outputs": [
    {
     "name": "stdout",
     "output_type": "stream",
     "text": [
      "Using matplotlib backend: MacOSX\n"
     ]
    }
   ],
   "source": [
    "import numpy as np\n",
    "import matplotlib.pyplot as plt \n",
    "from matplotlib.widgets import Slider\n",
    "%matplotlib"
   ]
  },
  {
   "cell_type": "code",
   "execution_count": 18,
   "metadata": {},
   "outputs": [],
   "source": [
    "def choose(n,k):\n",
    "    assert type(n) == int and n >= 0, \"Not a valid choice of n\"\n",
    "    assert (0 <= k <= n), \"Not a valid choice of k\"\n",
    "    half = n // 2\n",
    "    if k > half:\n",
    "        k = n-k\n",
    "    if k == 0:\n",
    "        return 1\n",
    "    elif k == 1:\n",
    "        return n\n",
    "    else:\n",
    "        return choose(n-1,k-1) + choose(n-1,k)"
   ]
  },
  {
   "cell_type": "code",
   "execution_count": 19,
   "metadata": {},
   "outputs": [
    {
     "name": "stdout",
     "output_type": "stream",
     "text": [
      "1\n"
     ]
    }
   ],
   "source": [
    "print(choose(0,0))"
   ]
  },
  {
   "cell_type": "code",
   "execution_count": 76,
   "metadata": {},
   "outputs": [],
   "source": [
    "def land(n):\n",
    "    start = int(np.ceil(n/2))\n",
    "    prob = 0\n",
    "    for i in range(start,n+1):\n",
    "        prob += choose(i,n-i)/(2**i)\n",
    "    return prob"
   ]
  },
  {
   "cell_type": "code",
   "execution_count": 51,
   "metadata": {},
   "outputs": [
    {
     "name": "stdout",
     "output_type": "stream",
     "text": [
      "            \u001b[31m1\u001b[0m \n",
      "           \u001b[32m1\u001b[0m  \u001b[33m1\u001b[0m \n",
      "          \u001b[33m1\u001b[0m  \u001b[34m2\u001b[0m  \u001b[35m1\u001b[0m \n",
      "         \u001b[34m1\u001b[0m  \u001b[35m3\u001b[0m  \u001b[31m3\u001b[0m  \u001b[32m1\u001b[0m \n",
      "        \u001b[35m1\u001b[0m  \u001b[31m4\u001b[0m  \u001b[32m6\u001b[0m  \u001b[33m4\u001b[0m  \u001b[34m1\u001b[0m \n",
      "       \u001b[31m1\u001b[0m  \u001b[32m5\u001b[0m  \u001b[33m10\u001b[0m  \u001b[34m10\u001b[0m  \u001b[35m5\u001b[0m  \u001b[31m1\u001b[0m \n",
      "      \u001b[32m1\u001b[0m  \u001b[33m6\u001b[0m  \u001b[34m15\u001b[0m  \u001b[35m20\u001b[0m  \u001b[31m15\u001b[0m  \u001b[32m6\u001b[0m  \u001b[33m1\u001b[0m \n",
      "     \u001b[33m1\u001b[0m  \u001b[34m7\u001b[0m  \u001b[35m21\u001b[0m  \u001b[31m35\u001b[0m  \u001b[32m35\u001b[0m  \u001b[33m21\u001b[0m  \u001b[34m7\u001b[0m  \u001b[35m1\u001b[0m \n",
      "    \u001b[34m1\u001b[0m  \u001b[35m8\u001b[0m  \u001b[31m28\u001b[0m  \u001b[32m56\u001b[0m  \u001b[33m70\u001b[0m  \u001b[34m56\u001b[0m  \u001b[35m28\u001b[0m  \u001b[31m8\u001b[0m  \u001b[32m1\u001b[0m \n",
      "   \u001b[35m1\u001b[0m  \u001b[31m9\u001b[0m  \u001b[32m36\u001b[0m  \u001b[33m84\u001b[0m  \u001b[34m126\u001b[0m  \u001b[35m126\u001b[0m  \u001b[31m84\u001b[0m  \u001b[32m36\u001b[0m  \u001b[33m9\u001b[0m  \u001b[34m1\u001b[0m \n"
     ]
    }
   ],
   "source": [
    "n = 9\n",
    "mod = 2\n",
    "\n",
    "class Style():\n",
    "    Red = \"\\033[31m\"\n",
    "    Green = \"\\033[32m\"\n",
    "    Yellow = \"\\033[33m\"\n",
    "    Blue = \"\\033[34m\"\n",
    "    Magenta = \"\\033[35m\"\n",
    "    Reset = \"\\033[0m\"\n",
    "\n",
    "def col(u):\n",
    "    n = 5\n",
    "    modulo = u % n\n",
    "    if modulo==0:\n",
    "        return Style.Red\n",
    "    elif modulo==1:\n",
    "        return Style.Green\n",
    "    elif modulo==2:\n",
    "        return Style.Yellow\n",
    "    elif modulo==3:\n",
    "        return Style.Blue\n",
    "    else:\n",
    "        return Style.Magenta\n",
    "\n",
    "for i in range(n+1):\n",
    "    for j in range(0, n-i+1):\n",
    "        print(' ', end='') \n",
    "    for j in range(i+1):\n",
    "        u = choose(i,j)\n",
    "        color = col(i+j)\n",
    "        print('  ', f\"{color}{u}{Style.Reset}\", sep='', end='') \n",
    "    print(' ')"
   ]
  },
  {
   "cell_type": "markdown",
   "metadata": {},
   "source": [
    "### Alternative formula for working out Y(n) ###"
   ]
  },
  {
   "cell_type": "code",
   "execution_count": 64,
   "metadata": {},
   "outputs": [],
   "source": [
    "def alt_form(n):\n",
    "    if n == 0:\n",
    "        return [1], [1]\n",
    "    elif n ==1:\n",
    "        return [1], [1]\n",
    "    else:\n",
    "        p_1, o = alt_form(n-1)\n",
    "        p_2 = alt_form(n-2)[0]\n",
    "        \n",
    "        p_2 = [0] + p_2\n",
    "        if n%2 == 0:\n",
    "            p_1 = p_1 + [0]\n",
    "            o = o + [int(2**(n/2))]\n",
    "        p = np.array(p_1) + np.array(p_2)\n",
    "        return p.tolist(), o\n",
    "\n",
    "def Y_alt_form(n):\n",
    "    p,o = alt_form(n)\n",
    "    #print(f'coefficients = {p}')\n",
    "    #print(f'powers = {o}')\n",
    "    pow = 1 / (2**n)\n",
    "    y = 0\n",
    "    for i in range(len(p)):\n",
    "        y += pow * o[i] * p[i]\n",
    "    return y\n",
    "        "
   ]
  },
  {
   "cell_type": "code",
   "execution_count": 65,
   "metadata": {},
   "outputs": [
    {
     "name": "stdout",
     "output_type": "stream",
     "text": [
      "0.5\n",
      "0.75\n",
      "0.625\n",
      "0.6875\n",
      "0.65625\n",
      "0.671875\n"
     ]
    }
   ],
   "source": [
    "for j in range(1,7):\n",
    "    print(Y_alt_form(j))"
   ]
  },
  {
   "cell_type": "code",
   "execution_count": 33,
   "metadata": {},
   "outputs": [
    {
     "name": "stdout",
     "output_type": "stream",
     "text": [
      "0.5 1.0\n",
      "0.75 3.0\n",
      "0.625 5.0\n",
      "0.6875 11.0\n",
      "0.65625 21.0\n",
      "0.671875 43.0\n"
     ]
    }
   ],
   "source": [
    "for j in range(1,7):\n",
    "    auto = land(j)\n",
    "    #print(land(j))\n",
    "    check = auto * 2**j\n",
    "    print(auto, check)"
   ]
  },
  {
   "cell_type": "code",
   "execution_count": 38,
   "metadata": {},
   "outputs": [
    {
     "name": "stdout",
     "output_type": "stream",
     "text": [
      "0.6666666865348816\n"
     ]
    }
   ],
   "source": [
    "print(land(24))"
   ]
  },
  {
   "cell_type": "code",
   "execution_count": 67,
   "metadata": {},
   "outputs": [
    {
     "name": "stdout",
     "output_type": "stream",
     "text": [
      "0.6666666865348816\n"
     ]
    }
   ],
   "source": [
    "print(Y_alt_form(24))"
   ]
  },
  {
   "cell_type": "code",
   "execution_count": 69,
   "metadata": {},
   "outputs": [
    {
     "name": "stdout",
     "output_type": "stream",
     "text": [
      "0.6666666865348816\n"
     ]
    }
   ],
   "source": [
    "n0 = 24\n",
    "Y_n = 0\n",
    "r = -1/2\n",
    "for i in range(n0+1):\n",
    "    Y_n += r**i\n",
    "print(Y_n)"
   ]
  },
  {
   "cell_type": "code",
   "execution_count": 108,
   "metadata": {},
   "outputs": [
    {
     "name": "stdout",
     "output_type": "stream",
     "text": [
      "0.6666666669771075\n"
     ]
    }
   ],
   "source": [
    "print(land(30))"
   ]
  },
  {
   "cell_type": "code",
   "execution_count": 41,
   "metadata": {},
   "outputs": [
    {
     "name": "stdout",
     "output_type": "stream",
     "text": [
      "0.6666666666669698\n"
     ]
    }
   ],
   "source": [
    "print(land(40))"
   ]
  },
  {
   "cell_type": "code",
   "execution_count": 77,
   "metadata": {},
   "outputs": [
    {
     "name": "stdout",
     "output_type": "stream",
     "text": [
      "The geometric formula I have presented matches my original binomial function\n"
     ]
    }
   ],
   "source": [
    "n0 = np.arange(0,25)\n",
    "tol = 1e-15\n",
    "truth = True\n",
    "for n in n0:\n",
    "    Y_n = 0\n",
    "    r = -1/2\n",
    "    for i in range(n+1):\n",
    "        Y_n += r**i\n",
    "    if np.abs(Y_n - land(n)) > tol:\n",
    "        truth = False\n",
    "        break\n",
    "if truth:\n",
    "    statement = 'matches'\n",
    "else:\n",
    "    statement = 'does not match'\n",
    "print(f\"The geometric formula I have presented {statement} my original binomial function\")"
   ]
  },
  {
   "cell_type": "markdown",
   "metadata": {},
   "source": [
    "## Extending problem ##"
   ]
  },
  {
   "cell_type": "code",
   "execution_count": 114,
   "metadata": {},
   "outputs": [],
   "source": [
    "def land_k(N,n_k_diff):\n",
    "    prob_array = []\n",
    "    for n in N:\n",
    "        prob = 0\n",
    "        k = n + n_k_diff\n",
    "        start = int(np.ceil((k-1)/2))\n",
    "        for i in range(start,n+1):\n",
    "            prob += choose(i,k-1-i)/(2**i)\n",
    "        prob_array = prob_array + [prob]\n",
    "    return prob_array"
   ]
  },
  {
   "cell_type": "code",
   "execution_count": 124,
   "metadata": {},
   "outputs": [
    {
     "name": "stdout",
     "output_type": "stream",
     "text": [
      "1\n",
      "1\n"
     ]
    }
   ],
   "source": [
    "for i in range(0,0+1):\n",
    "    k = i + 2\n",
    "    print(int(np.ceil((k-1)/2)))\n",
    "    print(i+1)"
   ]
  },
  {
   "cell_type": "code",
   "execution_count": 118,
   "metadata": {},
   "outputs": [
    {
     "name": "stdout",
     "output_type": "stream",
     "text": [
      "[0, 0.5, 0.5, 0.625, 0.625, 0.65625, 0.65625, 0.6640625, 0.6640625, 0.666015625, 0.666015625, 0.66650390625, 0.66650390625, 0.6666259765625, 0.6666259765625, 0.666656494140625, 0.666656494140625, 0.6666641235351562, 0.6666641235351562, 0.6666660308837891, 0.6666660308837891, 0.6666665077209473, 0.6666665077209473, 0.6666666269302368, 0.6666666269302368, 0.6666666567325592]\n"
     ]
    }
   ],
   "source": [
    "N = np.arange(0, 26)\n",
    "n_k_diff = 2\n",
    "\n",
    "print(land_k(N, n_k_diff))"
   ]
  },
  {
   "cell_type": "code",
   "execution_count": 117,
   "metadata": {},
   "outputs": [],
   "source": [
    "fig,ax = plt.subplots()\n",
    "plt.subplots_adjust(bottom=0.15)\n",
    "plt.grid('on')\n",
    "plt.ylim((0,0.8))\n",
    "plt.xlabel('n')\n",
    "plt.ylabel('$Y_{n+k}(n)$')\n",
    "P, = plt.plot(N, land_k(N, n_k_diff))\n",
    "\n",
    "plt.plot(N, 2/3*np.ones(len(N)), 'r--')\n",
    "\n",
    "axk = plt.axes([0.23, 0.05, 0.55, 0.02])\n",
    "k_slide = Slider(axk, '$k$', 1, 10,\n",
    "          valstep = 1, valinit = 1)\n",
    "def update(val):\n",
    "    n_k_diff = k_slide.val\n",
    "    P.set_ydata(land_k(N,n_k_diff))\n",
    "    fig.canvas.draw_idle()\n",
    "k_slide.on_changed(update)\n",
    "plt.show()"
   ]
  },
  {
   "cell_type": "code",
   "execution_count": null,
   "metadata": {},
   "outputs": [],
   "source": []
  }
 ],
 "metadata": {
  "kernelspec": {
   "display_name": "base",
   "language": "python",
   "name": "python3"
  },
  "language_info": {
   "codemirror_mode": {
    "name": "ipython",
    "version": 3
   },
   "file_extension": ".py",
   "mimetype": "text/x-python",
   "name": "python",
   "nbconvert_exporter": "python",
   "pygments_lexer": "ipython3",
   "version": "3.9.7"
  }
 },
 "nbformat": 4,
 "nbformat_minor": 2
}
